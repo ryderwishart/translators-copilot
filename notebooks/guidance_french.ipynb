{
 "cells": [
  {
   "cell_type": "code",
   "execution_count": 2,
   "metadata": {},
   "outputs": [
    {
     "name": "stdout",
     "output_type": "stream",
     "text": [
      "\u001b[33mDEPRECATION: Loading egg at /opt/homebrew/lib/python3.11/site-packages/python_docx-0.8.11-py3.11.egg is deprecated. pip 23.3 will enforce this behaviour change. A possible replacement is to use pip for package installation..\u001b[0m\u001b[33m\n",
      "\u001b[0m\u001b[33mDEPRECATION: Loading egg at /opt/homebrew/lib/python3.11/site-packages/pydantic-1.10.7-py3.11.egg is deprecated. pip 23.3 will enforce this behaviour change. A possible replacement is to use pip for package installation..\u001b[0m\u001b[33m\n",
      "\u001b[0m\u001b[33mDEPRECATION: Loading egg at /opt/homebrew/lib/python3.11/site-packages/typing_extensions-4.5.0-py3.11.egg is deprecated. pip 23.3 will enforce this behaviour change. A possible replacement is to use pip for package installation..\u001b[0m\u001b[33m\n",
      "\u001b[0m\u001b[33mDEPRECATION: Loading egg at /opt/homebrew/lib/python3.11/site-packages/pytest-7.2.2-py3.11.egg is deprecated. pip 23.3 will enforce this behaviour change. A possible replacement is to use pip for package installation..\u001b[0m\u001b[33m\n",
      "\u001b[0m\u001b[33mDEPRECATION: Loading egg at /opt/homebrew/lib/python3.11/site-packages/typing_inspect-0.8.0-py3.11.egg is deprecated. pip 23.3 will enforce this behaviour change. A possible replacement is to use pip for package installation..\u001b[0m\u001b[33m\n",
      "\u001b[0m\u001b[33mDEPRECATION: Loading egg at /opt/homebrew/lib/python3.11/site-packages/metagpt-0.1-py3.11.egg is deprecated. pip 23.3 will enforce this behaviour change. A possible replacement is to use pip for package installation..\u001b[0m\u001b[33m\n",
      "\u001b[0m\u001b[33mDEPRECATION: Loading egg at /opt/homebrew/lib/python3.11/site-packages/anthropic-0.3.6-py3.11.egg is deprecated. pip 23.3 will enforce this behaviour change. A possible replacement is to use pip for package installation..\u001b[0m\u001b[33m\n",
      "\u001b[0m\u001b[33mDEPRECATION: Loading egg at /opt/homebrew/lib/python3.11/site-packages/tiktoken-0.3.3-py3.11-macosx-13-arm64.egg is deprecated. pip 23.3 will enforce this behaviour change. A possible replacement is to use pip for package installation..\u001b[0m\u001b[33m\n",
      "\u001b[0m\u001b[33mDEPRECATION: Loading egg at /opt/homebrew/lib/python3.11/site-packages/setuptools-65.6.3-py3.11.egg is deprecated. pip 23.3 will enforce this behaviour change. A possible replacement is to use pip for package installation..\u001b[0m\u001b[33m\n",
      "\u001b[0m\u001b[33mDEPRECATION: Loading egg at /opt/homebrew/lib/python3.11/site-packages/tqdm-4.64.0-py3.11.egg is deprecated. pip 23.3 will enforce this behaviour change. A possible replacement is to use pip for package installation..\u001b[0m\u001b[33m\n",
      "\u001b[0mName: guidance\n",
      "Version: 0.0.50\n",
      "Summary: A guidance language for controlling large language models.\n",
      "Home-page: https://github.com/slundberg/guidance\n",
      "Author: Scott Lundberg and Marco Tulio Ribeiro\n",
      "Author-email: scott.lundberg@microsoft.com\n",
      "License: \n",
      "Location: /opt/homebrew/lib/python3.11/site-packages\n",
      "Requires: diskcache, nest-asyncio, numpy, openai, parsimonious, platformdirs, pygtrie, requests, tiktoken\n",
      "Required-by: \n"
     ]
    }
   ],
   "source": [
    "!pip3.10 install --upgrade guidance==0.0.59 -qq\n",
    "import os, requests\n",
    "\n",
    "# os.environ[\"OPENAI_API_KEY\"] = \"sk-xxxxxxxxxxxxxxxxxxxxxxxxxxxxxxxxxxxxxxxx\" # can be anything\n",
    "# os.environ[\"OPENAI_API_BASE\"] = \"http://192.168.1.76:8081/v1\"\n",
    "# os.environ[\"OPENAI_API_HOST\"] = \"http://192.168.1.76:8081\"\n",
    "\n",
    "import getpass, os \n",
    "secret_key = getpass.getpass('Enter OpenAI secret key: ') \n",
    "os.environ['OPENAI_API_KEY'] = secret_key\n",
    "\n",
    "\n",
    "import guidance\n",
    "\n",
    "# set the default language model used to execute guidance programs\n",
    "guidance.llm = guidance.llms.OpenAI(\"text-davinci-003\")\n",
    "\n",
    "!pip show guidance"
   ]
  },
  {
   "attachments": {},
   "cell_type": "markdown",
   "metadata": {},
   "source": [
    "To use the official OpenAI server"
   ]
  },
  {
   "cell_type": "code",
   "execution_count": 3,
   "metadata": {},
   "outputs": [],
   "source": [
    "# import getpass, os \n",
    "# secret_key = getpass.getpass('Enter OpenAI secret key: ') \n",
    "# os.environ['OPENAI_API_KEY'] = secret_key"
   ]
  },
  {
   "attachments": {},
   "cell_type": "markdown",
   "metadata": {},
   "source": [
    "## Define DB query functions"
   ]
  },
  {
   "cell_type": "code",
   "execution_count": 18,
   "metadata": {},
   "outputs": [
    {
     "name": "stdout",
     "output_type": "stream",
     "text": [
      "Getting treedown for ref MAT 3:15\n",
      "δὲ \n",
      "        \n",
      "          ἀποκριθεὶς ὁ Ἰησοῦς εἶπεν αὐτῷ \n",
      "          Ἄφες ἄρτι γὰρ \n",
      "              οὕτως \n",
      "                πρέπον ἐστὶν ἡμῖν \n",
      "                πληρῶσαι πᾶσαν δικαιοσύνην \n",
      "      τότε ἀφίησιν αὐτόν \n",
      "however \n",
      "        \n",
      "          Answering - Jesus said him \n",
      "          Permit [it] presently for \n",
      "              thus \n",
      "                fitting it is to us \n",
      "                to fulfill all righteousness \n",
      "      Then he permits Him \n",
      "\n",
      "\n"
     ]
    }
   ],
   "source": [
    "def get_similar_sentences_to_verse(query_string, target_language_code, limit):\n",
    "    \"\"\"Query local endpoint http://localhost:3000/api/query/{target_language_code}/{query_string}&limit={number_of_results}\"\"\"\n",
    "    url = f'http://localhost:3000/api/query/{target_language_code}/{query_string}&limit={limit}'\n",
    "    response = requests.get(url)\n",
    "    if response.status_code == 200:\n",
    "        return response.json()\n",
    "    else:\n",
    "        return {'error': response.status_code}\n",
    "    \n",
    "def get_translation_prompt_data(vref, target_language_code, limit=5):\n",
    "    '''http://localhost:3000/api/translation-prompt-builder?vref={url_encoded_vref = e.g., ROM%201%3A1}&target_language_code={target_language_code}'''\n",
    "    url = f'http://localhost:3000/api/translation-prompt-builder?vref={vref}&target_language_code={target_language_code}&number_of_examples={limit}'\n",
    "    response = requests.get(url)\n",
    "    if response.status_code == 200:\n",
    "        values = []\n",
    "        \"\"\"Each item looks like this:\n",
    "        'JAS 1:1': {'source': 'Ἰάκωβος  Θεοῦ  καὶ  Κυρίου  Ἰησοῦ  Χριστοῦ  δοῦλος  ταῖς  δώδεκα  φυλαῖς  ταῖς  ἐν  τῇ  Διασπορᾷ  χαίρειν.',\n",
    "  'bridge_translation': 'James, a servant of God and of the Lord Jesus Christ, To the twelve tribes of the Dispersion: Greetings.',\n",
    "  'target': 'Baitumatumayah etei a tafaram kwaihamiy kwatit tafaram tata’amaim kwama’am, etei a merar ayiy. Ayu James God ana akir wairafin na’atube ata Regah Jesu Keriso ana akir wairafin kwa a fef akikirum.'},\n",
    "        \n",
    "        I want the key to be a 'vref' property inside the object\n",
    "        \"\"\"\n",
    "        for key, value in response.json().items():\n",
    "            values.append({**value, 'vref': f'{key}'})\n",
    "        return values\n",
    "    else:\n",
    "        return [{'error': response.status_code}]\n",
    "\n",
    "# get unique tokens from /api/unique_tokens?language_code={target_language_code}\n",
    "def get_unique_tokens(target_language_code):\n",
    "    \"\"\"Query local endpoint http://localhost:3000/api/unique_tokens?language_code={target_language_code}\"\"\"\n",
    "    url = f'http://localhost:3000/api/unique_tokens?language_code={target_language_code}'\n",
    "    response = requests.get(url)\n",
    "    if response.status_code == 200:\n",
    "        return response.json()\n",
    "    else:\n",
    "        return {'error': response.status_code}\n",
    "    \n",
    "def get_ngrams(target_language_code, size, n):\n",
    "    \"\"\"Query local endpoint http://localhost:3000/api/ngrams?language_code={target_language_code}\"\"\"\n",
    "    url = f'http://localhost:3000/api/ngrams?language_code={target_language_code}&size={size}&n={n}'\n",
    "    response = requests.get(url)\n",
    "    if response.status_code == 200:\n",
    "        return response.json()\n",
    "    else:\n",
    "        return {'error': response.status_code}\n",
    "    \n",
    "# Get the plain treedown representation for a token's sentence\n",
    "\n",
    "# example endpoint: \"https://labs.clear.bible/symphony-dev/api/GNT/Nestle1904/lowfat?usfm-ref=JHN%2014:1\" - JHN 14:1\n",
    "\n",
    "from lxml import etree\n",
    "\n",
    "def process_element(element, usfm_ref, indent=0):\n",
    "    treedown_str = \"\"\n",
    "    \n",
    "    if element.get(\"class\") == \"cl\":\n",
    "        treedown_str += \"\\n\" + \"  \" * indent\n",
    "\n",
    "    if element.get(\"role\"):\n",
    "        role = element.attrib[\"role\"]\n",
    "        if role == \"adv\":\n",
    "            role = '+'\n",
    "        treedown_str += \"\\n\" + \"  \" * indent + role + \": \"\n",
    "        \n",
    "    # bold the matching token using usfm ref\n",
    "    if element.tag == \"w\" and element.get(\"ref\") == usfm_ref:\n",
    "        treedown_str += \"**\" + element.text + \"**\"\n",
    "        treedown_str += element.attrib.get(\"after\", \"\") + ' '\n",
    "\n",
    "    if element.tag == \"w\" and element.text:\n",
    "        treedown_str += element.attrib.get(\"gloss\", \"\") + f'[{element.text}]'\n",
    "        treedown_str += element.attrib.get(\"after\", \"\") + ' '\n",
    "\n",
    "    for child in element:\n",
    "        treedown_str += process_element(child, usfm_ref, indent + 1)\n",
    "\n",
    "    return treedown_str\n",
    "\n",
    "def process_element_clauses(element, indent=0):\n",
    "    greek_text = \"\"\n",
    "    gloss_text = \"\"\n",
    "    \n",
    "    if element.get(\"class\") == \"cl\":\n",
    "        greek_text += \"\\n\" + (\"  \" * indent)\n",
    "        gloss_text += \"\\n\" + (\"  \" * indent)\n",
    "        \n",
    "    if element.tag == \"w\" and element.text:\n",
    "        greek_text += element.text + \" \"\n",
    "        gloss_text += element.attrib.get(\"gloss\", \"\") + \" \"\n",
    "\n",
    "    for child in element:\n",
    "        # # Check if the child is a nested clause\n",
    "        # if child.get(\"class\") == \"clause\":\n",
    "        #     # If it is, we want to end the current clause, and process the child with indent + 1\n",
    "        #     child_greek_text, child_gloss_text = process_element_clauses(child, indent + 1)\n",
    "        #     greek_text += child_greek_text\n",
    "        #     gloss_text += child_gloss_text\n",
    "        # else:\n",
    "            # If it's not, we want to process the child with the same indent\n",
    "        child_greek_text, child_gloss_text = process_element_clauses(child, indent + 1)\n",
    "        greek_text += child_greek_text\n",
    "        gloss_text += child_gloss_text\n",
    "\n",
    "    return greek_text, gloss_text\n",
    "\n",
    "def processing_router(element, usfm_ref, indent=0, clauses_only=False):\n",
    "    if clauses_only:\n",
    "        return process_element_clauses(element, indent)\n",
    "    else:\n",
    "        return process_element(element, usfm_ref, indent)\n",
    "\n",
    "def get_treedown_by_ref(usfm_ref):\n",
    "    print('Getting treedown for ref', usfm_ref)\n",
    "    usfm_passage = usfm_ref.split('!')[0]\n",
    "    endpoint = \"https://labs.clear.bible/symphony-dev/api/GNT/Nestle1904/lowfat?usfm-ref=\" + usfm_passage\n",
    "    \n",
    "    # Note: the response is XML like this:\n",
    "    '''\n",
    "    <sentences xml:lang=\"grc\" ref=\"JHN 14:1\">\n",
    "        <sentence>\n",
    "        <p>\n",
    "        <milestone unit=\"verse\" id=\"JHN 14:1\">JHN 14:1</milestone>\n",
    "        Μὴ ταρασσέσθω ὑμῶν ἡ καρδία·\n",
    "        </p>\n",
    "        <wg>\n",
    "        <wg class=\"cl\" rule=\"ADV-V-S\">\n",
    "        <w role=\"adv\" ref=\"JHN 14:1!1\" after=\" \" class=\"adv\" id=\"n43014001001\" lemma=\"μή\" normalized=\"Μή\" strong=\"3361\" gloss=\"Not\" domain=\"069002\" ln=\"69.3\" morph=\"PRT-N\" unicode=\"Μὴ\">Μὴ</w>\n",
    "        ...\n",
    "    '''\n",
    "    text_response = requests.get(endpoint).text\n",
    "    # print(text_response)\n",
    "    \n",
    "    xml = etree.fromstring(text_response.encode('utf-8'))\n",
    "    # turn xml into simple treedown, with all text on one line, except a new line for <wg class=\"cl\".../> elements, and a new indented line for <w role.../> elements\n",
    "    \n",
    "    # treedown = processing_router(xml, usfm_ref, indent=0, clauses_only=False)\n",
    "    greek_text, gloss_text = processing_router(xml, usfm_ref, indent=0, clauses_only=True)\n",
    "    treedown = f'{greek_text}\\n{gloss_text}\\n\\n'\n",
    "    return treedown\n",
    "# test\n",
    "\n",
    "print(get_treedown_by_ref('MAT 3:15'))"
   ]
  },
  {
   "cell_type": "code",
   "execution_count": 4,
   "metadata": {},
   "outputs": [],
   "source": [
    "# get_unique_tokens(target_language_code)"
   ]
  },
  {
   "cell_type": "code",
   "execution_count": 5,
   "metadata": {},
   "outputs": [],
   "source": [
    "# # get_similar_sentences_to_verse('hi, this is a test sentence.', 'bsb_bible', 5)\n",
    "# get_translation_prompt_data('ROM 1:1', 'aai')"
   ]
  },
  {
   "cell_type": "code",
   "execution_count": 19,
   "metadata": {},
   "outputs": [
    {
     "name": "stdout",
     "output_type": "stream",
     "text": [
      "31102\n"
     ]
    }
   ],
   "source": [
    "import json\n",
    "with open('/Users/ryderwishart/translators-copilot/data/bible/fraLSG.json', 'r') as f:\n",
    "    triplets = json.load(f)\n",
    "\n",
    "print(len(triplets))"
   ]
  },
  {
   "cell_type": "code",
   "execution_count": 20,
   "metadata": {},
   "outputs": [],
   "source": [
    "first_nt_verse_index = 23145"
   ]
  },
  {
   "cell_type": "code",
   "execution_count": 21,
   "metadata": {},
   "outputs": [
    {
     "name": "stdout",
     "output_type": "stream",
     "text": [
      "Getting treedown for ref MAT 5:11\n"
     ]
    },
    {
     "data": {
      "text/plain": [
       "['μακάριοί ἐστε ὅταν',\n",
       " 'ὀνειδίσωσιν ὑμᾶς καὶ',\n",
       " 'διώξωσιν καὶ',\n",
       " 'εἴπωσιν πᾶν πονηρὸν καθ’ ὑμῶν',\n",
       " 'ψευδόμενοι ἕνεκεν ἐμοῦ',\n",
       " 'Blessed are you when',\n",
       " 'they shall insult you and',\n",
       " 'shall persecute [you] and',\n",
       " 'shall say all kinds of evil against you',\n",
       " 'lying on account of Me']"
      ]
     },
     "execution_count": 21,
     "metadata": {},
     "output_type": "execute_result"
    }
   ],
   "source": [
    "def treedown_lines(index):\n",
    "    import re\n",
    "    lines = get_treedown_by_ref(triplets[index]['vref']).split('\\n')\n",
    "    # skip empty lines and lines that are just `[a-z+]: `, e.g. `+:` or `n: ` (use regex)\n",
    "    return [line.strip().removeprefix(' ') for line in lines if line.strip() != '' and not re.match(r'^[a-z+]:$', line.strip())]\n",
    "\n",
    "treedown_lines(first_nt_verse_index + 100)"
   ]
  },
  {
   "attachments": {},
   "cell_type": "markdown",
   "metadata": {},
   "source": [
    "## Load Guidance and sanity check"
   ]
  },
  {
   "cell_type": "code",
   "execution_count": 9,
   "metadata": {},
   "outputs": [],
   "source": [
    "# import guidance\n",
    "\n",
    "# llm = guidance.llms.OpenAI(\n",
    "#         'text-davinci-003', # This is a required param, and Guidance validates the name\n",
    "#         # endpoint = \"http://192.168.1.76:8081/v1/\"\n",
    "#     )\n",
    "\n",
    "# def reset_llm():\n",
    "#     llm.cache.clear()\n",
    "\n",
    "# # Sanity check:\n",
    "# prog = guidance('hello {{name}} {{gen \"something\" stop=\";\"}}', llm=llm)(name='world!')\n"
   ]
  },
  {
   "attachments": {},
   "cell_type": "markdown",
   "metadata": {},
   "source": [
    "## Using line-by-line breakdown with token-output restriction"
   ]
  },
  {
   "cell_type": "code",
   "execution_count": 41,
   "metadata": {},
   "outputs": [
    {
     "data": {
      "text/html": [
       "<div id=\"guidance-stop-button-d1b557f0-b1d6-476f-89e5-15fd58474d3e\" style=\"cursor: pointer; margin: 0px; display: none; float: right; padding: 3px; border-radius: 4px 4px 4px 4px; border: 0px solid rgba(127, 127, 127, 1); padding-left: 10px; padding-right: 10px; font-size: 13px; background-color: rgba(127, 127, 127, 0.25);\">Stop program</div><div id=\"guidance-content-d1b557f0-b1d6-476f-89e5-15fd58474d3e\"><pre style='margin: 0px; padding: 0px; padding-left: 8px; margin-left: -8px; border-radius: 0px; border-left: 1px solid rgba(127, 127, 127, 0.2); white-space: pre-wrap; font-family: ColfaxAI, Arial; font-size: 15px; line-height: 23px;'>Source/English: <span style='background-color: rgba(0, 138.56128016, 250.76166089, 0.25); display: inline;' title='{{content}}'>χαίρετε καὶ</span>\n",
       "# French: <span style='background-color: rgba(0, 165, 0, 0.25); opacity: 1.0; display: inline;' title='{{select &#x27;alignment&#x27; options=target_options}}'></pre></div>\n",
       "<script type=\"text/javascript\">(()=>{var t={296:(t,e,n)=>{var i=NaN,o=\"[object Symbol]\",r=/^\\s+|\\s+$/g,a=/^[-+]0x[0-9a-f]+$/i,s=/^0b[01]+$/i,c=/^0o[0-7]+$/i,d=parseInt,u=\"object\"==typeof n.g&&n.g&&n.g.Object===Object&&n.g,l=\"object\"==typeof self&&self&&self.Object===Object&&self,f=u||l||Function(\"return this\")(),h=Object.prototype.toString,p=Math.max,m=Math.min,g=function(){return f.Date.now()};function b(t){var e=typeof t;return!!t&&(\"object\"==e||\"function\"==e)}function y(t){if(\"number\"==typeof t)return t;if(function(t){return\"symbol\"==typeof t||function(t){return!!t&&\"object\"==typeof t}(t)&&h.call(t)==o}(t))return i;if(b(t)){var e=\"function\"==typeof t.valueOf?t.valueOf():t;t=b(e)?e+\"\":e}if(\"string\"!=typeof t)return 0===t?t:+t;t=t.replace(r,\"\");var n=s.test(t);return n||c.test(t)?d(t.slice(2),n?2:8):a.test(t)?i:+t}t.exports=function(t,e,n){var i,o,r,a,s,c,d=0,u=!1,l=!1,f=!0;if(\"function\"!=typeof t)throw new TypeError(\"Expected a function\");function h(e){var n=i,r=o;return i=o=void 0,d=e,a=t.apply(r,n)}function v(t){var n=t-c;return void 0===c||n>=e||n<0||l&&t-d>=r}function _(){var t=g();if(v(t))return w(t);s=setTimeout(_,function(t){var n=e-(t-c);return l?m(n,r-(t-d)):n}(t))}function w(t){return s=void 0,f&&i?h(t):(i=o=void 0,a)}function j(){var t=g(),n=v(t);if(i=arguments,o=this,c=t,n){if(void 0===s)return function(t){return d=t,s=setTimeout(_,e),u?h(t):a}(c);if(l)return s=setTimeout(_,e),h(c)}return void 0===s&&(s=setTimeout(_,e)),a}return e=y(e)||0,b(n)&&(u=!!n.leading,r=(l=\"maxWait\"in n)?p(y(n.maxWait)||0,e):r,f=\"trailing\"in n?!!n.trailing:f),j.cancel=function(){void 0!==s&&clearTimeout(s),d=0,i=c=o=s=void 0},j.flush=function(){return void 0===s?a:w(g())},j}},777:t=>{var e,n,i=Math.max,o=(e=function(t,e){return function(t,e,n){if(\"function\"!=typeof t)throw new TypeError(\"Expected a function\");return setTimeout((function(){t.apply(void 0,n)}),1)}(t,0,e)},n=i(void 0===n?e.length-1:n,0),function(){for(var t=arguments,o=-1,r=i(t.length-n,0),a=Array(r);++o<r;)a[o]=t[n+o];o=-1;for(var s=Array(n+1);++o<n;)s[o]=t[o];return s[n]=a,function(t,e,n){switch(n.length){case 0:return t.call(e);case 1:return t.call(e,n[0]);case 2:return t.call(e,n[0],n[1]);case 3:return t.call(e,n[0],n[1],n[2])}return t.apply(e,n)}(e,this,s)});t.exports=o}},e={};function n(i){var o=e[i];if(void 0!==o)return o.exports;var r=e[i]={exports:{}};return t[i](r,r.exports,n),r.exports}n.n=t=>{var e=t&&t.__esModule?()=>t.default:()=>t;return n.d(e,{a:e}),e},n.d=(t,e)=>{for(var i in e)n.o(e,i)&&!n.o(t,i)&&Object.defineProperty(t,i,{enumerable:!0,get:e[i]})},n.g=function(){if(\"object\"==typeof globalThis)return globalThis;try{return this||new Function(\"return this\")()}catch(t){if(\"object\"==typeof window)return window}}(),n.o=(t,e)=>Object.prototype.hasOwnProperty.call(t,e),(()=>{\"use strict\";const t=t=>{const e=new Set;do{for(const n of Reflect.ownKeys(t))e.add([t,n])}while((t=Reflect.getPrototypeOf(t))&&t!==Object.prototype);return e};function e(e,{include:n,exclude:i}={}){const o=t=>{const e=e=>\"string\"==typeof e?t===e:e.test(t);return n?n.some(e):!i||!i.some(e)};for(const[n,i]of t(e.constructor.prototype)){if(\"constructor\"===i||!o(i))continue;const t=Reflect.getOwnPropertyDescriptor(n,i);t&&\"function\"==typeof t.value&&(e[i]=e[i].bind(e))}return e}var i=n(777),o=n.n(i),r=n(296),a=n.n(r);class s{constructor(t,n){e(this),this.interfaceId=t,this.callbackMap={},this.data={},this.pendingData={},this.jcomm=new c(\"guidance_interface_target_\"+this.interfaceId,this.updateData,\"open\"),this.debouncedSendPendingData500=a()(this.sendPendingData,500),this.debouncedSendPendingData1000=a()(this.sendPendingData,1e3),n&&o()(n)}send(t,e){this.addPendingData(t,e),this.sendPendingData()}sendEvent(t){for(const e of Object.keys(t))this.addPendingData(e,t[e]);this.sendPendingData()}debouncedSendEvent500(t){for(const e of Object.keys(t))this.addPendingData(e,t[e]);this.debouncedSendPendingData500()}debouncedSend500(t,e){this.addPendingData(t,e),this.debouncedSendPendingData500()}debouncedSend1000(t,e){this.addPendingData(t,e),this.debouncedSendPendingData1000()}addPendingData(t,e){Array.isArray(t)||(t=[t]);for(const n in t)this.pendingData[t[n]]=e}updateData(t){t=JSON.parse(t.data);for(const e in t)this.data[e]=t[e];for(const e in t)e in this.callbackMap&&this.callbackMap[e](this.data[e])}subscribe(t,e){this.callbackMap[t]=e,o()((e=>this.callbackMap[t](this.data[t])))}sendPendingData(){this.jcomm.send_data(this.pendingData),this.pendingData={}}}class c{constructor(t,e,n=\"open\"){this._fire_callback=this._fire_callback.bind(this),this._register=this._register.bind(this),this.jcomm=void 0,this.callback=e,void 0!==window.Jupyter?\"register\"===n?Jupyter.notebook.kernel.comm_manager.register_target(t,this._register):(this.jcomm=Jupyter.notebook.kernel.comm_manager.new_comm(t),this.jcomm.on_msg(this._fire_callback)):void 0!==window._mgr&&(\"register\"===n?window._mgr.widgetManager.proxyKernel.registerCommTarget(t,this._register):(this.jcomm=window._mgr.widgetManager.proxyKernel.createComm(t),this.jcomm.open({},\"\"),this.jcomm.onMsg=this._fire_callback))}send_data(t){void 0!==this.jcomm?this.jcomm.send(t):console.error(\"Jupyter comm module not yet loaded! So we can't send the message.\")}_register(t,e){this.jcomm=t,this.jcomm.on_msg(this._fire_callback)}_fire_callback(t){this.callback(t.content.data)}}class d{constructor(t,n){e(this),this.id=t,this.comm=new s(t),this.comm.subscribe(\"append\",this.appendData),this.comm.subscribe(\"replace\",this.replaceData),this.comm.subscribe(\"event\",this.eventOccurred),this.element=document.getElementById(\"guidance-content-\"+t),this.stop_button=document.getElementById(\"guidance-stop-button-\"+t),this.stop_button.onclick=()=>this.comm.send(\"event\",\"stop\")}appendData(t){t&&(this.stop_button.style.display=\"inline-block\",this.element.innerHTML+=t)}replaceData(t){t&&(this.stop_button.style.display=\"inline-block\",this.element.innerHTML=t)}eventOccurred(t){\"complete\"===t&&(this.stop_button.style.display=\"none\")}}window._guidanceDisplay=function(t,e){return new d(t,e)}})()})();; window._guidanceDisplay(\"d1b557f0-b1d6-476f-89e5-15fd58474d3e\");</script>"
      ]
     },
     "metadata": {},
     "output_type": "display_data"
    },
    {
     "name": "stdout",
     "output_type": "stream",
     "text": [
      "Traceback (most recent call last):\n",
      "  File \"/opt/homebrew/lib/python3.10/site-packages/guidance/_program_executor.py\", line 102, in run\n",
      "    await self.visit(self.parse_tree)\n",
      "  File \"/opt/homebrew/lib/python3.10/site-packages/guidance/_program_executor.py\", line 437, in visit\n",
      "    visited_children.append(await self.visit(child, inner_next_node, inner_next_next_node, inner_prev_node, node, parent_node))\n",
      "  File \"/opt/homebrew/lib/python3.10/site-packages/guidance/_program_executor.py\", line 437, in visit\n",
      "    visited_children.append(await self.visit(child, inner_next_node, inner_next_next_node, inner_prev_node, node, parent_node))\n",
      "  File \"/opt/homebrew/lib/python3.10/site-packages/guidance/_program_executor.py\", line 226, in visit\n",
      "    visited_children = [await self.visit(child, next_node, next_next_node, prev_node, node, parent_node) for child in node.children]\n",
      "  File \"/opt/homebrew/lib/python3.10/site-packages/guidance/_program_executor.py\", line 226, in <listcomp>\n",
      "    visited_children = [await self.visit(child, next_node, next_next_node, prev_node, node, parent_node) for child in node.children]\n",
      "  File \"/opt/homebrew/lib/python3.10/site-packages/guidance/_program_executor.py\", line 437, in visit\n",
      "    visited_children.append(await self.visit(child, inner_next_node, inner_next_next_node, inner_prev_node, node, parent_node))\n",
      "  File \"/opt/homebrew/lib/python3.10/site-packages/guidance/_program_executor.py\", line 300, in visit\n",
      "    command_output = await command_function(*positional_args, **named_args)\n",
      "  File \"/opt/homebrew/lib/python3.10/site-packages/guidance/library/_select.py\", line 150, in select\n",
      "    option_logprobs = await recursive_select([])\n",
      "  File \"/opt/homebrew/lib/python3.10/site-packages/guidance/library/_select.py\", line 136, in recursive_select\n",
      "    sub_logprobs = await recursive_select(current_prefix + [token])\n",
      "  File \"/opt/homebrew/lib/python3.10/site-packages/guidance/library/_select.py\", line 119, in recursive_select\n",
      "    assert logprobs_result and logprobs_result[\"top_logprobs\"], f\"No logprobs returned from LLM!, {logprobs_result}\"\n",
      "AssertionError: No logprobs returned from LLM!, {\n",
      "  \"text_offset\": [],\n",
      "  \"token_logprobs\": [],\n",
      "  \"tokens\": [],\n",
      "  \"top_logprobs\": []\n",
      "}\n",
      "\n",
      "Error in program:  No logprobs returned from LLM!, {\n",
      "  \"text_offset\": [],\n",
      "  \"token_logprobs\": [],\n",
      "  \"tokens\": [],\n",
      "  \"top_logprobs\": []\n",
      "}\n"
     ]
    },
    {
     "ename": "AssertionError",
     "evalue": "No logprobs returned from LLM!, {\n  \"text_offset\": [],\n  \"token_logprobs\": [],\n  \"tokens\": [],\n  \"top_logprobs\": []\n}",
     "output_type": "error",
     "traceback": [
      "\u001b[0;31m---------------------------------------------------------------------------\u001b[0m",
      "\u001b[0;31mAssertionError\u001b[0m                            Traceback (most recent call last)",
      "Cell \u001b[0;32mIn[41], line 37\u001b[0m\n\u001b[1;32m     34\u001b[0m \u001b[39massert\u001b[39;00m \u001b[39mlen\u001b[39m(lines) \u001b[39m>\u001b[39m \u001b[39m0\u001b[39m\n\u001b[1;32m     36\u001b[0m \u001b[39mfor\u001b[39;00m line \u001b[39min\u001b[39;00m lines:\n\u001b[0;32m---> 37\u001b[0m     output \u001b[39m=\u001b[39m alignment_program(content\u001b[39m=\u001b[39;49mline[\u001b[39m'\u001b[39;49m\u001b[39mcontent\u001b[39;49m\u001b[39m'\u001b[39;49m], target_options\u001b[39m=\u001b[39;49mtarget_options)\n\u001b[1;32m     38\u001b[0m     selected_option \u001b[39m=\u001b[39m output[\u001b[39m'\u001b[39m\u001b[39malignment\u001b[39m\u001b[39m'\u001b[39m]\n\u001b[1;32m     39\u001b[0m     target_options \u001b[39m=\u001b[39m [option \u001b[39mfor\u001b[39;00m option \u001b[39min\u001b[39;00m target_options \u001b[39mif\u001b[39;00m selected_option \u001b[39mnot\u001b[39;00m \u001b[39min\u001b[39;00m option]\n",
      "File \u001b[0;32m/opt/homebrew/lib/python3.10/site-packages/guidance/_program.py:234\u001b[0m, in \u001b[0;36mProgram.__call__\u001b[0;34m(self, **kwargs)\u001b[0m\n\u001b[1;32m    232\u001b[0m         \u001b[39mreturn\u001b[39;00m \u001b[39mself\u001b[39m\u001b[39m.\u001b[39m_stream_run(loop, new_program)\n\u001b[1;32m    233\u001b[0m     \u001b[39melse\u001b[39;00m:\n\u001b[0;32m--> 234\u001b[0m         loop\u001b[39m.\u001b[39;49mrun_until_complete(new_program\u001b[39m.\u001b[39;49mexecute())\n\u001b[1;32m    236\u001b[0m \u001b[39mreturn\u001b[39;00m new_program\n",
      "File \u001b[0;32m~/Library/Python/3.10/lib/python/site-packages/nest_asyncio.py:90\u001b[0m, in \u001b[0;36m_patch_loop.<locals>.run_until_complete\u001b[0;34m(self, future)\u001b[0m\n\u001b[1;32m     87\u001b[0m \u001b[39mif\u001b[39;00m \u001b[39mnot\u001b[39;00m f\u001b[39m.\u001b[39mdone():\n\u001b[1;32m     88\u001b[0m     \u001b[39mraise\u001b[39;00m \u001b[39mRuntimeError\u001b[39;00m(\n\u001b[1;32m     89\u001b[0m         \u001b[39m'\u001b[39m\u001b[39mEvent loop stopped before Future completed.\u001b[39m\u001b[39m'\u001b[39m)\n\u001b[0;32m---> 90\u001b[0m \u001b[39mreturn\u001b[39;00m f\u001b[39m.\u001b[39;49mresult()\n",
      "File \u001b[0;32m/opt/homebrew/Cellar/python@3.10/3.10.12_1/Frameworks/Python.framework/Versions/3.10/lib/python3.10/asyncio/futures.py:201\u001b[0m, in \u001b[0;36mFuture.result\u001b[0;34m(self)\u001b[0m\n\u001b[1;32m    199\u001b[0m \u001b[39mself\u001b[39m\u001b[39m.\u001b[39m__log_traceback \u001b[39m=\u001b[39m \u001b[39mFalse\u001b[39;00m\n\u001b[1;32m    200\u001b[0m \u001b[39mif\u001b[39;00m \u001b[39mself\u001b[39m\u001b[39m.\u001b[39m_exception \u001b[39mis\u001b[39;00m \u001b[39mnot\u001b[39;00m \u001b[39mNone\u001b[39;00m:\n\u001b[0;32m--> 201\u001b[0m     \u001b[39mraise\u001b[39;00m \u001b[39mself\u001b[39m\u001b[39m.\u001b[39m_exception\u001b[39m.\u001b[39mwith_traceback(\u001b[39mself\u001b[39m\u001b[39m.\u001b[39m_exception_tb)\n\u001b[1;32m    202\u001b[0m \u001b[39mreturn\u001b[39;00m \u001b[39mself\u001b[39m\u001b[39m.\u001b[39m_result\n",
      "File \u001b[0;32m/opt/homebrew/Cellar/python@3.10/3.10.12_1/Frameworks/Python.framework/Versions/3.10/lib/python3.10/asyncio/tasks.py:232\u001b[0m, in \u001b[0;36mTask.__step\u001b[0;34m(***failed resolving arguments***)\u001b[0m\n\u001b[1;32m    228\u001b[0m \u001b[39mtry\u001b[39;00m:\n\u001b[1;32m    229\u001b[0m     \u001b[39mif\u001b[39;00m exc \u001b[39mis\u001b[39;00m \u001b[39mNone\u001b[39;00m:\n\u001b[1;32m    230\u001b[0m         \u001b[39m# We use the `send` method directly, because coroutines\u001b[39;00m\n\u001b[1;32m    231\u001b[0m         \u001b[39m# don't have `__iter__` and `__next__` methods.\u001b[39;00m\n\u001b[0;32m--> 232\u001b[0m         result \u001b[39m=\u001b[39m coro\u001b[39m.\u001b[39;49msend(\u001b[39mNone\u001b[39;49;00m)\n\u001b[1;32m    233\u001b[0m     \u001b[39melse\u001b[39;00m:\n\u001b[1;32m    234\u001b[0m         result \u001b[39m=\u001b[39m coro\u001b[39m.\u001b[39mthrow(exc)\n",
      "File \u001b[0;32m/opt/homebrew/lib/python3.10/site-packages/guidance/_program.py:385\u001b[0m, in \u001b[0;36mProgram.execute\u001b[0;34m(self)\u001b[0m\n\u001b[1;32m    383\u001b[0m \u001b[39melse\u001b[39;00m:\n\u001b[1;32m    384\u001b[0m     \u001b[39mwith\u001b[39;00m \u001b[39mself\u001b[39m\u001b[39m.\u001b[39mllm\u001b[39m.\u001b[39msession(asynchronous\u001b[39m=\u001b[39m\u001b[39mTrue\u001b[39;00m) \u001b[39mas\u001b[39;00m llm_session:\n\u001b[0;32m--> 385\u001b[0m         \u001b[39mawait\u001b[39;00m \u001b[39mself\u001b[39m\u001b[39m.\u001b[39m_executor\u001b[39m.\u001b[39mrun(llm_session)\n\u001b[1;32m    386\u001b[0m \u001b[39mself\u001b[39m\u001b[39m.\u001b[39m_text \u001b[39m=\u001b[39m \u001b[39mself\u001b[39m\u001b[39m.\u001b[39m_executor\u001b[39m.\u001b[39mprefix\n\u001b[1;32m    388\u001b[0m \u001b[39m# delete the executor and so mark the program as not executing\u001b[39;00m\n",
      "File \u001b[0;32m/opt/homebrew/lib/python3.10/site-packages/guidance/_program_executor.py:106\u001b[0m, in \u001b[0;36mProgramExecutor.run\u001b[0;34m(self, llm_session)\u001b[0m\n\u001b[1;32m    104\u001b[0m \u001b[39mprint\u001b[39m(traceback\u001b[39m.\u001b[39mformat_exc())\n\u001b[1;32m    105\u001b[0m \u001b[39mprint\u001b[39m(\u001b[39m\"\u001b[39m\u001b[39mError in program: \u001b[39m\u001b[39m\"\u001b[39m, e)\n\u001b[0;32m--> 106\u001b[0m \u001b[39mraise\u001b[39;00m e\n",
      "File \u001b[0;32m/opt/homebrew/lib/python3.10/site-packages/guidance/_program_executor.py:102\u001b[0m, in \u001b[0;36mProgramExecutor.run\u001b[0;34m(self, llm_session)\u001b[0m\n\u001b[1;32m     96\u001b[0m \u001b[39mself\u001b[39m\u001b[39m.\u001b[39mllm_session \u001b[39m=\u001b[39m llm_session\n\u001b[1;32m     97\u001b[0m \u001b[39mtry\u001b[39;00m:\n\u001b[1;32m     98\u001b[0m     \u001b[39m# first parse all the whitespace control\u001b[39;00m\n\u001b[1;32m     99\u001b[0m     \u001b[39m# self.whitespace_control_visit(self.parse_tree)\u001b[39;00m\n\u001b[1;32m    100\u001b[0m \n\u001b[1;32m    101\u001b[0m     \u001b[39m# now execute the program\u001b[39;00m\n\u001b[0;32m--> 102\u001b[0m     \u001b[39mawait\u001b[39;00m \u001b[39mself\u001b[39m\u001b[39m.\u001b[39mvisit(\u001b[39mself\u001b[39m\u001b[39m.\u001b[39mparse_tree)\n\u001b[1;32m    103\u001b[0m \u001b[39mexcept\u001b[39;00m \u001b[39mException\u001b[39;00m \u001b[39mas\u001b[39;00m e:\n\u001b[1;32m    104\u001b[0m     \u001b[39mprint\u001b[39m(traceback\u001b[39m.\u001b[39mformat_exc())\n",
      "File \u001b[0;32m/opt/homebrew/lib/python3.10/site-packages/guidance/_program_executor.py:437\u001b[0m, in \u001b[0;36mProgramExecutor.visit\u001b[0;34m(self, node, next_node, next_next_node, prev_node, parent_node, grandparent_node)\u001b[0m\n\u001b[1;32m    435\u001b[0m     \u001b[39melse\u001b[39;00m:\n\u001b[1;32m    436\u001b[0m         inner_prev_node \u001b[39m=\u001b[39m prev_node\n\u001b[0;32m--> 437\u001b[0m     visited_children\u001b[39m.\u001b[39mappend(\u001b[39mawait\u001b[39;00m \u001b[39mself\u001b[39m\u001b[39m.\u001b[39mvisit(child, inner_next_node, inner_next_next_node, inner_prev_node, node, parent_node))\n\u001b[1;32m    438\u001b[0m \u001b[39m# visited_children = [self.visit(child) for child in node.children]\u001b[39;00m\n\u001b[1;32m    440\u001b[0m \u001b[39mif\u001b[39;00m \u001b[39mlen\u001b[39m(visited_children) \u001b[39m==\u001b[39m \u001b[39m1\u001b[39m:\n",
      "File \u001b[0;32m/opt/homebrew/lib/python3.10/site-packages/guidance/_program_executor.py:437\u001b[0m, in \u001b[0;36mProgramExecutor.visit\u001b[0;34m(self, node, next_node, next_next_node, prev_node, parent_node, grandparent_node)\u001b[0m\n\u001b[1;32m    435\u001b[0m     \u001b[39melse\u001b[39;00m:\n\u001b[1;32m    436\u001b[0m         inner_prev_node \u001b[39m=\u001b[39m prev_node\n\u001b[0;32m--> 437\u001b[0m     visited_children\u001b[39m.\u001b[39mappend(\u001b[39mawait\u001b[39;00m \u001b[39mself\u001b[39m\u001b[39m.\u001b[39mvisit(child, inner_next_node, inner_next_next_node, inner_prev_node, node, parent_node))\n\u001b[1;32m    438\u001b[0m \u001b[39m# visited_children = [self.visit(child) for child in node.children]\u001b[39;00m\n\u001b[1;32m    440\u001b[0m \u001b[39mif\u001b[39;00m \u001b[39mlen\u001b[39m(visited_children) \u001b[39m==\u001b[39m \u001b[39m1\u001b[39m:\n",
      "File \u001b[0;32m/opt/homebrew/lib/python3.10/site-packages/guidance/_program_executor.py:226\u001b[0m, in \u001b[0;36mProgramExecutor.visit\u001b[0;34m(self, node, next_node, next_next_node, prev_node, parent_node, grandparent_node)\u001b[0m\n\u001b[1;32m    224\u001b[0m \u001b[39m# visit our children\u001b[39;00m\n\u001b[1;32m    225\u001b[0m \u001b[39mself\u001b[39m\u001b[39m.\u001b[39mblock_content\u001b[39m.\u001b[39mappend([])\n\u001b[0;32m--> 226\u001b[0m visited_children \u001b[39m=\u001b[39m [\u001b[39mawait\u001b[39;00m \u001b[39mself\u001b[39m\u001b[39m.\u001b[39mvisit(child, next_node, next_next_node, prev_node, node, parent_node) \u001b[39mfor\u001b[39;00m child \u001b[39min\u001b[39;00m node\u001b[39m.\u001b[39mchildren]\n\u001b[1;32m    227\u001b[0m \u001b[39mself\u001b[39m\u001b[39m.\u001b[39mblock_content\u001b[39m.\u001b[39mpop()\n\u001b[1;32m    228\u001b[0m out \u001b[39m=\u001b[39m \u001b[39m\"\u001b[39m\u001b[39m\"\u001b[39m\u001b[39m.\u001b[39mjoin(\u001b[39m\"\u001b[39m\u001b[39m\"\u001b[39m \u001b[39mif\u001b[39;00m c \u001b[39mis\u001b[39;00m \u001b[39mNone\u001b[39;00m \u001b[39melse\u001b[39;00m \u001b[39mstr\u001b[39m(c) \u001b[39mfor\u001b[39;00m c \u001b[39min\u001b[39;00m visited_children)\n",
      "File \u001b[0;32m/opt/homebrew/lib/python3.10/site-packages/guidance/_program_executor.py:226\u001b[0m, in \u001b[0;36m<listcomp>\u001b[0;34m(.0)\u001b[0m\n\u001b[1;32m    224\u001b[0m \u001b[39m# visit our children\u001b[39;00m\n\u001b[1;32m    225\u001b[0m \u001b[39mself\u001b[39m\u001b[39m.\u001b[39mblock_content\u001b[39m.\u001b[39mappend([])\n\u001b[0;32m--> 226\u001b[0m visited_children \u001b[39m=\u001b[39m [\u001b[39mawait\u001b[39;00m \u001b[39mself\u001b[39m\u001b[39m.\u001b[39mvisit(child, next_node, next_next_node, prev_node, node, parent_node) \u001b[39mfor\u001b[39;00m child \u001b[39min\u001b[39;00m node\u001b[39m.\u001b[39mchildren]\n\u001b[1;32m    227\u001b[0m \u001b[39mself\u001b[39m\u001b[39m.\u001b[39mblock_content\u001b[39m.\u001b[39mpop()\n\u001b[1;32m    228\u001b[0m out \u001b[39m=\u001b[39m \u001b[39m\"\u001b[39m\u001b[39m\"\u001b[39m\u001b[39m.\u001b[39mjoin(\u001b[39m\"\u001b[39m\u001b[39m\"\u001b[39m \u001b[39mif\u001b[39;00m c \u001b[39mis\u001b[39;00m \u001b[39mNone\u001b[39;00m \u001b[39melse\u001b[39;00m \u001b[39mstr\u001b[39m(c) \u001b[39mfor\u001b[39;00m c \u001b[39min\u001b[39;00m visited_children)\n",
      "File \u001b[0;32m/opt/homebrew/lib/python3.10/site-packages/guidance/_program_executor.py:437\u001b[0m, in \u001b[0;36mProgramExecutor.visit\u001b[0;34m(self, node, next_node, next_next_node, prev_node, parent_node, grandparent_node)\u001b[0m\n\u001b[1;32m    435\u001b[0m     \u001b[39melse\u001b[39;00m:\n\u001b[1;32m    436\u001b[0m         inner_prev_node \u001b[39m=\u001b[39m prev_node\n\u001b[0;32m--> 437\u001b[0m     visited_children\u001b[39m.\u001b[39mappend(\u001b[39mawait\u001b[39;00m \u001b[39mself\u001b[39m\u001b[39m.\u001b[39mvisit(child, inner_next_node, inner_next_next_node, inner_prev_node, node, parent_node))\n\u001b[1;32m    438\u001b[0m \u001b[39m# visited_children = [self.visit(child) for child in node.children]\u001b[39;00m\n\u001b[1;32m    440\u001b[0m \u001b[39mif\u001b[39;00m \u001b[39mlen\u001b[39m(visited_children) \u001b[39m==\u001b[39m \u001b[39m1\u001b[39m:\n",
      "File \u001b[0;32m/opt/homebrew/lib/python3.10/site-packages/guidance/_program_executor.py:300\u001b[0m, in \u001b[0;36mProgramExecutor.visit\u001b[0;34m(self, node, next_node, next_next_node, prev_node, parent_node, grandparent_node)\u001b[0m\n\u001b[1;32m    298\u001b[0m \u001b[39mif\u001b[39;00m inspect\u001b[39m.\u001b[39miscoroutinefunction(command_function):\n\u001b[1;32m    299\u001b[0m     \u001b[39mawait\u001b[39;00m asyncio\u001b[39m.\u001b[39msleep(\u001b[39m0\u001b[39m) \u001b[39m# give other coroutines a chance to run\u001b[39;00m\n\u001b[0;32m--> 300\u001b[0m     command_output \u001b[39m=\u001b[39m \u001b[39mawait\u001b[39;00m command_function(\u001b[39m*\u001b[39mpositional_args, \u001b[39m*\u001b[39m\u001b[39m*\u001b[39mnamed_args)\n\u001b[1;32m    301\u001b[0m \u001b[39melse\u001b[39;00m:\n\u001b[1;32m    302\u001b[0m     command_output \u001b[39m=\u001b[39m command_function(\u001b[39m*\u001b[39mpositional_args, \u001b[39m*\u001b[39m\u001b[39m*\u001b[39mnamed_args)\n",
      "File \u001b[0;32m/opt/homebrew/lib/python3.10/site-packages/guidance/library/_select.py:150\u001b[0m, in \u001b[0;36mselect\u001b[0;34m(variable_name, options, logprobs, list_append, _parser_context)\u001b[0m\n\u001b[1;32m    147\u001b[0m     \u001b[39mreturn\u001b[39;00m logprobs_out\n\u001b[1;32m    149\u001b[0m \u001b[39m# recursively compute the logprobs for each option\u001b[39;00m\n\u001b[0;32m--> 150\u001b[0m option_logprobs \u001b[39m=\u001b[39m \u001b[39mawait\u001b[39;00m recursive_select([])\n\u001b[1;32m    152\u001b[0m \u001b[39m# convert the key from a token list to a string\u001b[39;00m\n\u001b[1;32m    153\u001b[0m option_logprobs \u001b[39m=\u001b[39m {parser\u001b[39m.\u001b[39mprogram\u001b[39m.\u001b[39mllm\u001b[39m.\u001b[39mdecode(k): v \u001b[39mfor\u001b[39;00m k,v \u001b[39min\u001b[39;00m option_logprobs\u001b[39m.\u001b[39mitems()}\n",
      "File \u001b[0;32m/opt/homebrew/lib/python3.10/site-packages/guidance/library/_select.py:136\u001b[0m, in \u001b[0;36mselect.<locals>.recursive_select\u001b[0;34m(current_prefix, allow_token_extension)\u001b[0m\n\u001b[1;32m    134\u001b[0m \u001b[39m# for each possible next token, see if it grows the prefix in a valid way\u001b[39;00m\n\u001b[1;32m    135\u001b[0m \u001b[39mfor\u001b[39;00m token,logprob \u001b[39min\u001b[39;00m top_logprobs\u001b[39m.\u001b[39mitems():\n\u001b[0;32m--> 136\u001b[0m     sub_logprobs \u001b[39m=\u001b[39m \u001b[39mawait\u001b[39;00m recursive_select(current_prefix \u001b[39m+\u001b[39m [token])\n\u001b[1;32m    138\u001b[0m     \u001b[39m# we add the logprob of this token to the logprob of the suffix\u001b[39;00m\n\u001b[1;32m    139\u001b[0m     \u001b[39mfor\u001b[39;00m k \u001b[39min\u001b[39;00m sub_logprobs:\n\u001b[1;32m    140\u001b[0m \n\u001b[1;32m    141\u001b[0m         \u001b[39m# compute the probability of a logical OR between the new extension and the previous possible ones\u001b[39;00m\n",
      "File \u001b[0;32m/opt/homebrew/lib/python3.10/site-packages/guidance/library/_select.py:119\u001b[0m, in \u001b[0;36mselect.<locals>.recursive_select\u001b[0;34m(current_prefix, allow_token_extension)\u001b[0m\n\u001b[1;32m    117\u001b[0m \u001b[39m# convert the logprobs keys from string back to token ids\u001b[39;00m\n\u001b[1;32m    118\u001b[0m top_logprobs \u001b[39m=\u001b[39m {}\n\u001b[0;32m--> 119\u001b[0m \u001b[39massert\u001b[39;00m logprobs_result \u001b[39mand\u001b[39;00m logprobs_result[\u001b[39m\"\u001b[39m\u001b[39mtop_logprobs\u001b[39m\u001b[39m\"\u001b[39m], \u001b[39mf\u001b[39m\u001b[39m\"\u001b[39m\u001b[39mNo logprobs returned from LLM!, \u001b[39m\u001b[39m{\u001b[39;00mlogprobs_result\u001b[39m}\u001b[39;00m\u001b[39m\"\u001b[39m\n\u001b[1;32m    120\u001b[0m \u001b[39mfor\u001b[39;00m k,v \u001b[39min\u001b[39;00m logprobs_result[\u001b[39m\"\u001b[39m\u001b[39mtop_logprobs\u001b[39m\u001b[39m\"\u001b[39m][\u001b[39m0\u001b[39m]\u001b[39m.\u001b[39mitems():\n\u001b[1;32m    121\u001b[0m     \u001b[39mid\u001b[39m \u001b[39m=\u001b[39m parser\u001b[39m.\u001b[39mprogram\u001b[39m.\u001b[39mllm\u001b[39m.\u001b[39mtoken_to_id(k)\n",
      "\u001b[0;31mAssertionError\u001b[0m: No logprobs returned from LLM!, {\n  \"text_offset\": [],\n  \"token_logprobs\": [],\n  \"tokens\": [],\n  \"top_logprobs\": []\n}"
     ]
    }
   ],
   "source": [
    "# Let's use treedown_lines(first_nt_verse_index + 100) as the text (which returns an array of lines)\n",
    "# and then let's use the following program to generate an alignment for every single line\n",
    "\n",
    "alignment_program = guidance('''Source/English: {{content}}\n",
    "# French: {{select 'alignment' options=target_options}}''')\n",
    "\n",
    "treedown_alignment_program = guidance('''USER: Please also align the following sentence phrase by phrase:\n",
    "\n",
    "English: {{triplet['bsb']['content']}}\n",
    "Source: {{triplet['macula']['content']}}\n",
    "French: {{triplet['target']['content']}}\n",
    "\n",
    "ASSISTANT: Here is a phonological, semantic, orthographic alignment of the tokens in the sentence:\n",
    "{{#each lines}}\n",
    "{{>alignment_program}}\n",
    "{{/each}}\n",
    "''')\n",
    "\n",
    "current_verse_index = first_nt_verse_index + 101\n",
    "\n",
    "lines = treedown_lines(current_verse_index)\n",
    "lines = [{'content': line} for line in lines]\n",
    "\n",
    "triplet = triplets[current_verse_index]\n",
    "import re\n",
    "from nltk.util import ngrams\n",
    "\n",
    "target_tokens = re.split(' ', triplet['target']['content'])\n",
    "target_tokens = [token for token in target_tokens if token != '']\n",
    "\n",
    "target_options = target_tokens[:]\n",
    "for n in range(2, min(6, len(target_tokens) + 1)):\n",
    "    target_options.extend([' '.join(ngram) for ngram in ngrams(target_tokens, n)])\n",
    "assert len(lines) > 0\n",
    "\n",
    "for line in lines:\n",
    "    output = alignment_program(content=line['content'], target_options=target_options)\n",
    "    selected_option = output['alignment']\n",
    "    target_options = [option for option in target_options if selected_option not in option]\n",
    "\n",
    "output = treedown_alignment_program(triplet=triplet, lines=lines)\n"
   ]
  },
  {
   "cell_type": "code",
   "execution_count": null,
   "metadata": {},
   "outputs": [],
   "source": [
    "output._exception"
   ]
  },
  {
   "cell_type": "code",
   "execution_count": null,
   "metadata": {},
   "outputs": [],
   "source": []
  },
  {
   "cell_type": "code",
   "execution_count": 50,
   "metadata": {},
   "outputs": [
    {
     "name": "stdout",
     "output_type": "stream",
     "text": [
      "[85936, 73, 283, 15760, 89, 45325, 1880, 779, 9188, 89, 7010, 326, 92748, 978, 18297, 325, 11, 66021, 1744, 15265, 9517, 5807, 1137, 35737, 25626, 7010, 3625, 272, 53819, 26, 1841, 272, 22117, 44351, 934, 68306, 264, 7565, 978, 10453, 978, 3625, 40334, 4558, 2392, 7930, 14848, 24560, 33670, 9189, 13]\n",
      "Getting treedown for ref MAT 5:11\n",
      ", réjouissez-vous, vous, et, qu’on vous, qu’on vous, et, qu’on, qu’on, et, qu’on, qu’on, et, qu’on, qu’on, et, qu’on, qu’on, et, qu’on, qu’on,\n"
     ]
    }
   ],
   "source": [
    "import openai\n",
    "import requests\n",
    "\n",
    "import tiktoken\n",
    "\n",
    "enc = tiktoken.encoding_for_model(\"gpt-4\")\n",
    "\n",
    "# Tokenize the French sentence\n",
    "def tokenize(sentence):\n",
    "    return enc.encode(sentence)\n",
    "\n",
    "# Get the token IDs\n",
    "french_sentence = triplet['target']['content']\n",
    "tokenized_french = tokenize(french_sentence)\n",
    "print(tokenized_french)\n",
    "token_ids = tokenized_french\n",
    "\n",
    "# Create a bias map with the token IDs\n",
    "bias_map = {str(token_id): 100 for token_id in token_ids}\n",
    "\n",
    "\n",
    "current_verse_index = first_nt_verse_index + 100\n",
    "\n",
    "lines = treedown_lines(current_verse_index)\n",
    "lines = [{'content': line} for line in lines]\n",
    "\n",
    "triplet = triplets[current_verse_index]\n",
    "\n",
    "# Generate the completion\n",
    "source_structure = f'''USER: Please also align the following sentence phrase by phrase:\n",
    "\n",
    "English: {triplet['bsb']['content']}\n",
    "Source: {triplet['macula']['content']}\n",
    "French: {triplet['target']['content']}\n",
    "\n",
    "Source clauses:\n",
    "{lines[0]['content']}'''\n",
    "\n",
    "response = openai.Completion.create(\n",
    "  engine=\"gpt-3.5-turbo-instruct\",\n",
    "  prompt=source_structure,\n",
    "  max_tokens=60,\n",
    "  temperature=0.5,\n",
    "  logit_bias=bias_map\n",
    ")\n",
    "\n",
    "print(response.choices[0].text.strip())"
   ]
  },
  {
   "cell_type": "code",
   "execution_count": null,
   "metadata": {},
   "outputs": [],
   "source": []
  }
 ],
 "metadata": {
  "kernelspec": {
   "display_name": "Python 3",
   "language": "python",
   "name": "python3"
  },
  "language_info": {
   "codemirror_mode": {
    "name": "ipython",
    "version": 3
   },
   "file_extension": ".py",
   "mimetype": "text/x-python",
   "name": "python",
   "nbconvert_exporter": "python",
   "pygments_lexer": "ipython3",
   "version": "3.10.13"
  },
  "orig_nbformat": 4
 },
 "nbformat": 4,
 "nbformat_minor": 2
}
