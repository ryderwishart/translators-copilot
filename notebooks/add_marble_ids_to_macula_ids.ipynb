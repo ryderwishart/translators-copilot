{
 "cells": [
  {
   "cell_type": "code",
   "execution_count": null,
   "metadata": {},
   "outputs": [],
   "source": []
  },
  {
   "cell_type": "code",
   "execution_count": 3,
   "metadata": {},
   "outputs": [
    {
     "name": "stdout",
     "output_type": "stream",
     "text": [
      "         MARBLE_ID       TEXT     VREF\n",
      "0  H00100100100002        בְּ  GEN 1:1\n",
      "1  H00100100100004  רֵאשִׁ֖ית  GEN 1:1\n",
      "2  H00100100100006    בָּרָ֣א  GEN 1:1\n",
      "3  H00100100100008  אֱלֹהִ֑ים  GEN 1:1\n",
      "4  H00100100100010       אֵ֥ת  GEN 1:1\n",
      "          xml:id        ref class       text transliteration after  \\\n",
      "0  o010010010011  GEN 1:1!1  prep        בְּ              bə   NaN   \n",
      "1  o010010010012  GEN 1:1!1  noun  רֵאשִׁ֖ית         rēʾšiyṯ         \n",
      "2  o010010010021  GEN 1:1!2  verb    בָּרָ֣א           bārāʾ         \n",
      "3  o010010010031  GEN 1:1!3  noun  אֱלֹהִ֑ים        ʾĕlōhiym         \n",
      "4  o010010010041  GEN 1:1!4    om       אֵ֥ת             ʾēṯ         \n",
      "\n",
      "  strongnumberx stronglemma sensenumber     greek  ... normalized strong case  \\\n",
      "0         0871a         בְּ         NaN        ἐν  ...        NaN    NaN  NaN   \n",
      "1          7225    רֵאשִׁית           1      ἀρξῇ  ...        NaN    NaN  NaN   \n",
      "2          1254      בָּרָא           1  ἐποίησεν  ...        NaN    NaN  NaN   \n",
      "3          0430    אֱלֹהִים           1      θεὸς  ...        NaN    NaN  NaN   \n",
      "4          0853         אֵת         NaN       NaN  ...        NaN    NaN  NaN   \n",
      "\n",
      "  tense voice mood degree domain   ln referent  \n",
      "0   NaN   NaN  NaN    NaN    NaN  NaN      NaN  \n",
      "1   NaN   NaN  NaN    NaN    NaN  NaN      NaN  \n",
      "2   NaN   NaN  NaN    NaN    NaN  NaN      NaN  \n",
      "3   NaN   NaN  NaN    NaN    NaN  NaN      NaN  \n",
      "4   NaN   NaN  NaN    NaN    NaN  NaN      NaN  \n",
      "\n",
      "[5 rows x 43 columns]\n"
     ]
    }
   ],
   "source": [
    "import pandas as pd\n",
    "\n",
    "# Assuming ids_df and other_df are your DataFrames\n",
    "ids_path = '/Users/ryderwishart/text-librarian/data/marble/ids.txt'\n",
    "ids_df = pd.read_csv(ids_path, sep='\\t', header=0, dtype=str)\n",
    "\n",
    "# other_df is a concat of two TSVs\n",
    "macula_paths = [\n",
    "    '/Users/ryderwishart/librarian-api/data/macula/macula-hebrew.tsv',\n",
    "    '/Users/ryderwishart/librarian-api/data/macula/macula-greek-SBLGNT.tsv'\n",
    "]\n",
    "\n",
    "macula_dfs = [pd.read_csv(path, sep='\\t', header=0, dtype=str) for path in macula_paths]\n",
    "\n",
    "other_df = pd.concat(macula_dfs)\n",
    "\n",
    "print(ids_df.head())\n",
    "print(other_df.head()) \n",
    "\n",
    "\n"
   ]
  },
  {
   "cell_type": "code",
   "execution_count": null,
   "metadata": {},
   "outputs": [],
   "source": [
    "# Sort both DataFrames by the 'TEXT' column\n",
    "ids_df_sorted = ids_df.sort_values(by='TEXT')\n",
    "other_df_sorted = other_df.sort_values(by='text')\n",
    "\n",
    "# Merge the two DataFrames based on the sorted 'TEXT' and 'text' columns\n",
    "merged_df = pd.merge(ids_df_sorted, other_df_sorted, left_on='TEXT', right_on='text', how='left')\n",
    "\n",
    "# Rename the 'xml:id' column to 'MACULA_ID'\n",
    "merged_df.rename(columns={'xml:id': 'MACULA_ID'}, inplace=True)\n",
    "\n",
    "# Drop the 'text' column from the merged DataFrame\n",
    "merged_df.drop(columns=['text'], inplace=True)\n",
    "\n",
    "# Print the updated merged DataFrame\n",
    "print(merged_df)"
   ]
  }
 ],
 "metadata": {
  "kernelspec": {
   "display_name": "Python 3",
   "language": "python",
   "name": "python3"
  },
  "language_info": {
   "codemirror_mode": {
    "name": "ipython",
    "version": 3
   },
   "file_extension": ".py",
   "mimetype": "text/x-python",
   "name": "python",
   "nbconvert_exporter": "python",
   "pygments_lexer": "ipython3",
   "version": "3.11.6"
  },
  "orig_nbformat": 4
 },
 "nbformat": 4,
 "nbformat_minor": 2
}
